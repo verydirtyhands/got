{
 "cells": [
  {
   "cell_type": "markdown",
   "metadata": {},
   "source": [
    "# Text Generation Detection: GPT or Human"
   ]
  },
  {
   "cell_type": "code",
   "execution_count": 1,
   "metadata": {
    "ExecuteTime": {
     "end_time": "2023-05-21T22:27:50.470177Z",
     "start_time": "2023-05-21T22:27:50.460232Z"
    },
    "id": "eSCJBdVN6C08"
   },
   "outputs": [],
   "source": [
    "import numpy as np\n",
    "import pandas as pd\n",
    "from tensorflow.keras.layers import Dense, Input, Flatten, Embedding, multiply, SpatialDropout1D, BatchNormalization, Dropout\n",
    "from tensorflow.keras.models import Model, save_model, load_model, Sequential\n",
    "from tensorflow.keras.optimizers import Adam\n",
    "# from langdetect import detect\n",
    "from tensorflow.keras.preprocessing.sequence import pad_sequences # Метод для работы с последовательностями\n",
    "\n",
    "from sklearn.model_selection import train_test_split # Для разделения выборки на тестовую и обучающую\n",
    "from tensorflow.keras.preprocessing.text import Tokenizer  # импортируем токенизатор\n",
    "from sklearn.metrics import f1_score\n",
    "from tensorflow.keras.callbacks import ModelCheckpoint, EarlyStopping, ReduceLROnPlateau # колбэки\n",
    "\n",
    "import matplotlib.pyplot as plt\n",
    "\n",
    "%matplotlib inline"
   ]
  },
  {
   "cell_type": "code",
   "execution_count": 2,
   "metadata": {
    "ExecuteTime": {
     "end_time": "2023-05-21T22:43:47.054832Z",
     "start_time": "2023-05-21T22:43:46.857909Z"
    },
    "colab": {
     "base_uri": "https://localhost:8080/",
     "height": 337
    },
    "id": "31f9QewE6C1Q",
    "outputId": "628dea84-70ea-4d0e-8910-f7ac66720edb"
   },
   "outputs": [
    {
     "data": {
      "text/html": [
       "<div>\n",
       "<style scoped>\n",
       "    .dataframe tbody tr th:only-of-type {\n",
       "        vertical-align: middle;\n",
       "    }\n",
       "\n",
       "    .dataframe tbody tr th {\n",
       "        vertical-align: top;\n",
       "    }\n",
       "\n",
       "    .dataframe thead th {\n",
       "        text-align: right;\n",
       "    }\n",
       "</style>\n",
       "<table border=\"1\" class=\"dataframe\">\n",
       "  <thead>\n",
       "    <tr style=\"text-align: right;\">\n",
       "      <th></th>\n",
       "      <th>q_title</th>\n",
       "      <th>q_id</th>\n",
       "      <th>label</th>\n",
       "      <th>ans_text</th>\n",
       "      <th>line_id</th>\n",
       "    </tr>\n",
       "  </thead>\n",
       "  <tbody>\n",
       "    <tr>\n",
       "      <th>0</th>\n",
       "      <td>Какие комплектующие должны быть в компьютере, ...</td>\n",
       "      <td>fff6c529-c037-47c8-b33b-873397243fbd</td>\n",
       "      <td>hu_answer</td>\n",
       "      <td>Да ничего особенного. :)\\nКорпус должен быть, ...</td>\n",
       "      <td>735ba0c5-e6b2-461a-bf5d-b7cb67d42299</td>\n",
       "    </tr>\n",
       "    <tr>\n",
       "      <th>1</th>\n",
       "      <td>Какие комплектующие должны быть в компьютере, ...</td>\n",
       "      <td>fff6c529-c037-47c8-b33b-873397243fbd</td>\n",
       "      <td>ai_answer</td>\n",
       "      <td>Здравствуйте! Спасибо за интересный вопрос. Дл...</td>\n",
       "      <td>f5eb55c6-2785-4ddc-8f97-30021fd75d68</td>\n",
       "    </tr>\n",
       "    <tr>\n",
       "      <th>2</th>\n",
       "      <td>Loading a Reusable UITableViewCell from a Nib</td>\n",
       "      <td>fff28c1f-9331-4467-b6f4-143d127a02a0</td>\n",
       "      <td>ai_answer</td>\n",
       "      <td>To load a reusable UITableViewCell from a Nib,...</td>\n",
       "      <td>bfd3d85e-6981-423d-a138-7580530a1f85</td>\n",
       "    </tr>\n",
       "    <tr>\n",
       "      <th>3</th>\n",
       "      <td>Loading a Reusable UITableViewCell from a Nib</td>\n",
       "      <td>fff28c1f-9331-4467-b6f4-143d127a02a0</td>\n",
       "      <td>hu_answer</td>\n",
       "      <td>Actually, since you are building the cell in I...</td>\n",
       "      <td>b823bb82-4b05-41ec-b226-7bd0aef29711</td>\n",
       "    </tr>\n",
       "    <tr>\n",
       "      <th>4</th>\n",
       "      <td>How can I change UIButton title color?</td>\n",
       "      <td>ffeccbf1-eff2-42b2-a472-f2a8c70b7dbd</td>\n",
       "      <td>hu_answer</td>\n",
       "      <td>You can use -[UIButton setTitleColor:forState:...</td>\n",
       "      <td>4816a574-6bbf-4658-b37b-39d05c29dfca</td>\n",
       "    </tr>\n",
       "  </tbody>\n",
       "</table>\n",
       "</div>"
      ],
      "text/plain": [
       "                                             q_title  \\\n",
       "0  Какие комплектующие должны быть в компьютере, ...   \n",
       "1  Какие комплектующие должны быть в компьютере, ...   \n",
       "2      Loading a Reusable UITableViewCell from a Nib   \n",
       "3      Loading a Reusable UITableViewCell from a Nib   \n",
       "4             How can I change UIButton title color?   \n",
       "\n",
       "                                   q_id      label  \\\n",
       "0  fff6c529-c037-47c8-b33b-873397243fbd  hu_answer   \n",
       "1  fff6c529-c037-47c8-b33b-873397243fbd  ai_answer   \n",
       "2  fff28c1f-9331-4467-b6f4-143d127a02a0  ai_answer   \n",
       "3  fff28c1f-9331-4467-b6f4-143d127a02a0  hu_answer   \n",
       "4  ffeccbf1-eff2-42b2-a472-f2a8c70b7dbd  hu_answer   \n",
       "\n",
       "                                            ans_text  \\\n",
       "0  Да ничего особенного. :)\\nКорпус должен быть, ...   \n",
       "1  Здравствуйте! Спасибо за интересный вопрос. Дл...   \n",
       "2  To load a reusable UITableViewCell from a Nib,...   \n",
       "3  Actually, since you are building the cell in I...   \n",
       "4  You can use -[UIButton setTitleColor:forState:...   \n",
       "\n",
       "                                line_id  \n",
       "0  735ba0c5-e6b2-461a-bf5d-b7cb67d42299  \n",
       "1  f5eb55c6-2785-4ddc-8f97-30021fd75d68  \n",
       "2  bfd3d85e-6981-423d-a138-7580530a1f85  \n",
       "3  b823bb82-4b05-41ec-b226-7bd0aef29711  \n",
       "4  4816a574-6bbf-4658-b37b-39d05c29dfca  "
      ]
     },
     "execution_count": 2,
     "metadata": {},
     "output_type": "execute_result"
    }
   ],
   "source": [
    "train = pd.read_csv('train.csv')\n",
    "train.head()"
   ]
  },
  {
   "cell_type": "code",
   "execution_count": 3,
   "metadata": {
    "id": "87RBf-xScSG4"
   },
   "outputs": [],
   "source": [
    "# удаляем не испульзуемые колонки\n",
    "del train['q_id']\n",
    "del train['line_id']"
   ]
  },
  {
   "cell_type": "code",
   "execution_count": 4,
   "metadata": {
    "id": "x3iOTfWTewVK"
   },
   "outputs": [],
   "source": [
    "all_text = train['q_title'].to_list() + train['ans_text'].to_list()  # собираем все тексты для токенизатора"
   ]
  },
  {
   "cell_type": "code",
   "execution_count": 5,
   "metadata": {
    "id": "t93QTYLwltjh"
   },
   "outputs": [],
   "source": [
    "max_words = 61000  # размер словаря\n",
    "# Используется встроенный в Keras токенизатор для разбиения текста и построения частотного словаря\n",
    "tokenizer = Tokenizer(num_words=max_words, filters='!\"#$%&()*+,-–—./…:;<=>?@[\\\\]^_`{|}~«»\\t\\n\\xa0\\ufeff', lower=True, split=' ', oov_token='неизвестное_слово', char_level=False)\n",
    "# Использованы параметры:\n",
    "# num_words   - объем словаря\n",
    "# filters     - убираемые из текста ненужные символы\n",
    "# lower       - приведение слов к нижнему регистру\n",
    "# split       - разделитель слов\n",
    "# char_level  - указание разделять по словам, а не по единичным символам\n",
    "# oov_token   - токен для слов, которые не вошли в словарь\n",
    "\n",
    "# Построение частотного словаря по текстам\n",
    "tokenizer.fit_on_texts(all_text)"
   ]
  },
  {
   "cell_type": "code",
   "execution_count": 6,
   "metadata": {
    "id": "iBX1bN1Cn9BB"
   },
   "outputs": [],
   "source": [
    "tok = tokenizer.to_json()\n",
    "\n",
    "with open('/content/drive/MyDrive/Базы/tokenizer.json', 'w') as json_file:\n",
    "    json_file.write(tok)"
   ]
  },
  {
   "cell_type": "code",
   "execution_count": 7,
   "metadata": {
    "id": "sAM12wZWog0I"
   },
   "outputs": [],
   "source": [
    "# выводим словарь частотности\n",
    "# print(tokenizer.word_index)"
   ]
  },
  {
   "cell_type": "code",
   "execution_count": 8,
   "metadata": {
    "id": "qgtvELSIgbGf"
   },
   "outputs": [],
   "source": [
    "#  преобразуем текст в числа\n",
    "ans_text = tokenizer.texts_to_sequences(train['ans_text'])\n",
    "# q_title = tokenizer.texts_to_sequences(train['q_title'])"
   ]
  },
  {
   "cell_type": "code",
   "execution_count": 9,
   "metadata": {
    "id": "2ov4mfBfgvPV"
   },
   "outputs": [
    {
     "data": {
      "text/html": [
       "<div>\n",
       "<style scoped>\n",
       "    .dataframe tbody tr th:only-of-type {\n",
       "        vertical-align: middle;\n",
       "    }\n",
       "\n",
       "    .dataframe tbody tr th {\n",
       "        vertical-align: top;\n",
       "    }\n",
       "\n",
       "    .dataframe thead th {\n",
       "        text-align: right;\n",
       "    }\n",
       "</style>\n",
       "<table border=\"1\" class=\"dataframe\">\n",
       "  <thead>\n",
       "    <tr style=\"text-align: right;\">\n",
       "      <th></th>\n",
       "      <th>q_title</th>\n",
       "      <th>label</th>\n",
       "      <th>ans_text</th>\n",
       "    </tr>\n",
       "  </thead>\n",
       "  <tbody>\n",
       "    <tr>\n",
       "      <th>0</th>\n",
       "      <td>Какие комплектующие должны быть в компьютере, ...</td>\n",
       "      <td>hu_answer</td>\n",
       "      <td>[331, 751, 16653, 13673, 799, 82, 330, 405, 22...</td>\n",
       "    </tr>\n",
       "    <tr>\n",
       "      <th>1</th>\n",
       "      <td>Какие комплектующие должны быть в компьютере, ...</td>\n",
       "      <td>ai_answer</td>\n",
       "      <td>[576, 395, 74, 475, 144, 40, 147, 101, 1736, 1...</td>\n",
       "    </tr>\n",
       "    <tr>\n",
       "      <th>2</th>\n",
       "      <td>Loading a Reusable UITableViewCell from a Nib</td>\n",
       "      <td>ai_answer</td>\n",
       "      <td>[3, 628, 5, 7833, 3115, 36, 5, 5357, 11, 76, 3...</td>\n",
       "    </tr>\n",
       "    <tr>\n",
       "      <th>3</th>\n",
       "      <td>Loading a Reusable UITableViewCell from a Nib</td>\n",
       "      <td>hu_answer</td>\n",
       "      <td>[480, 464, 11, 34, 1591, 2, 816, 10, 768, 2041...</td>\n",
       "    </tr>\n",
       "    <tr>\n",
       "      <th>4</th>\n",
       "      <td>How can I change UIButton title color?</td>\n",
       "      <td>hu_answer</td>\n",
       "      <td>[11, 17, 33, 2542, 13680, 5185, 3, 73, 16, 83,...</td>\n",
       "    </tr>\n",
       "    <tr>\n",
       "      <th>...</th>\n",
       "      <td>...</td>\n",
       "      <td>...</td>\n",
       "      <td>...</td>\n",
       "    </tr>\n",
       "    <tr>\n",
       "      <th>4814</th>\n",
       "      <td>Windows batch: call more than one command in a...</td>\n",
       "      <td>ai_answer</td>\n",
       "      <td>[169, 723, 3, 396, 97, 168, 60, 99, 10, 5, 12,...</td>\n",
       "    </tr>\n",
       "    <tr>\n",
       "      <th>4815</th>\n",
       "      <td>Windows batch: call more than one command in a...</td>\n",
       "      <td>hu_answer</td>\n",
       "      <td>[52, 9, 2361, 12, 1760, 1431, 55, 15, 578, 240...</td>\n",
       "    </tr>\n",
       "    <tr>\n",
       "      <th>4816</th>\n",
       "      <td>I can't install pyaudio on Windows? How to sol...</td>\n",
       "      <td>hu_answer</td>\n",
       "      <td>[2, 363, 46, 60928, 9, 791, 868, 7, 23, 123, 1...</td>\n",
       "    </tr>\n",
       "    <tr>\n",
       "      <th>4817</th>\n",
       "      <td>I can't install pyaudio on Windows? How to sol...</td>\n",
       "      <td>ai_answer</td>\n",
       "      <td>[18, 942, 84, 11, 34, 882, 2, 1021, 772, 88, 1...</td>\n",
       "    </tr>\n",
       "    <tr>\n",
       "      <th>4818</th>\n",
       "      <td>Determine font color based on background color</td>\n",
       "      <td>ai_answer</td>\n",
       "      <td>[3, 958, 2, 764, 635, 304, 26, 2, 1215, 635, 1...</td>\n",
       "    </tr>\n",
       "  </tbody>\n",
       "</table>\n",
       "<p>4819 rows × 3 columns</p>\n",
       "</div>"
      ],
      "text/plain": [
       "                                                q_title      label  \\\n",
       "0     Какие комплектующие должны быть в компьютере, ...  hu_answer   \n",
       "1     Какие комплектующие должны быть в компьютере, ...  ai_answer   \n",
       "2         Loading a Reusable UITableViewCell from a Nib  ai_answer   \n",
       "3         Loading a Reusable UITableViewCell from a Nib  hu_answer   \n",
       "4                How can I change UIButton title color?  hu_answer   \n",
       "...                                                 ...        ...   \n",
       "4814  Windows batch: call more than one command in a...  ai_answer   \n",
       "4815  Windows batch: call more than one command in a...  hu_answer   \n",
       "4816  I can't install pyaudio on Windows? How to sol...  hu_answer   \n",
       "4817  I can't install pyaudio on Windows? How to sol...  ai_answer   \n",
       "4818     Determine font color based on background color  ai_answer   \n",
       "\n",
       "                                               ans_text  \n",
       "0     [331, 751, 16653, 13673, 799, 82, 330, 405, 22...  \n",
       "1     [576, 395, 74, 475, 144, 40, 147, 101, 1736, 1...  \n",
       "2     [3, 628, 5, 7833, 3115, 36, 5, 5357, 11, 76, 3...  \n",
       "3     [480, 464, 11, 34, 1591, 2, 816, 10, 768, 2041...  \n",
       "4     [11, 17, 33, 2542, 13680, 5185, 3, 73, 16, 83,...  \n",
       "...                                                 ...  \n",
       "4814  [169, 723, 3, 396, 97, 168, 60, 99, 10, 5, 12,...  \n",
       "4815  [52, 9, 2361, 12, 1760, 1431, 55, 15, 578, 240...  \n",
       "4816  [2, 363, 46, 60928, 9, 791, 868, 7, 23, 123, 1...  \n",
       "4817  [18, 942, 84, 11, 34, 882, 2, 1021, 772, 88, 1...  \n",
       "4818  [3, 958, 2, 764, 635, 304, 26, 2, 1215, 635, 1...  \n",
       "\n",
       "[4819 rows x 3 columns]"
      ]
     },
     "execution_count": 9,
     "metadata": {},
     "output_type": "execute_result"
    }
   ],
   "source": [
    "# заменяем колонки\n",
    "train['ans_text'] = ans_text\n",
    "train"
   ]
  },
  {
   "cell_type": "code",
   "execution_count": 10,
   "metadata": {
    "id": "RKyGx9j0g7G6"
   },
   "outputs": [],
   "source": [
    "# создаём колонку с метками\n",
    "train['label_ohe'] = 0\n",
    "train.loc[train['label']==\"hu_answer\", \"label_ohe\"] = 1\n",
    "train = train.drop('label', axis = 1)\n",
    "train = train.drop('q_title', axis = 1)"
   ]
  },
  {
   "cell_type": "code",
   "execution_count": 11,
   "metadata": {
    "id": "r_lkHT8GwkS0"
   },
   "outputs": [],
   "source": [
    "# функция для подсчёта метрики F1\n",
    "def compute_metric(pred, y):\n",
    "    score = f1_score(y, pred)\n",
    "    return score"
   ]
  },
  {
   "cell_type": "code",
   "execution_count": 12,
   "metadata": {
    "id": "moMu23ozp_Uv"
   },
   "outputs": [
    {
     "data": {
      "text/html": [
       "<div>\n",
       "<style scoped>\n",
       "    .dataframe tbody tr th:only-of-type {\n",
       "        vertical-align: middle;\n",
       "    }\n",
       "\n",
       "    .dataframe tbody tr th {\n",
       "        vertical-align: top;\n",
       "    }\n",
       "\n",
       "    .dataframe thead th {\n",
       "        text-align: right;\n",
       "    }\n",
       "</style>\n",
       "<table border=\"1\" class=\"dataframe\">\n",
       "  <thead>\n",
       "    <tr style=\"text-align: right;\">\n",
       "      <th></th>\n",
       "      <th>ans_text</th>\n",
       "      <th>label_ohe</th>\n",
       "    </tr>\n",
       "  </thead>\n",
       "  <tbody>\n",
       "    <tr>\n",
       "      <th>0</th>\n",
       "      <td>[331, 751, 16653, 13673, 799, 82, 330, 405, 22...</td>\n",
       "      <td>1</td>\n",
       "    </tr>\n",
       "    <tr>\n",
       "      <th>1</th>\n",
       "      <td>[576, 395, 74, 475, 144, 40, 147, 101, 1736, 1...</td>\n",
       "      <td>0</td>\n",
       "    </tr>\n",
       "    <tr>\n",
       "      <th>2</th>\n",
       "      <td>[3, 628, 5, 7833, 3115, 36, 5, 5357, 11, 76, 3...</td>\n",
       "      <td>0</td>\n",
       "    </tr>\n",
       "    <tr>\n",
       "      <th>3</th>\n",
       "      <td>[480, 464, 11, 34, 1591, 2, 816, 10, 768, 2041...</td>\n",
       "      <td>1</td>\n",
       "    </tr>\n",
       "    <tr>\n",
       "      <th>4</th>\n",
       "      <td>[11, 17, 33, 2542, 13680, 5185, 3, 73, 16, 83,...</td>\n",
       "      <td>1</td>\n",
       "    </tr>\n",
       "  </tbody>\n",
       "</table>\n",
       "</div>"
      ],
      "text/plain": [
       "                                            ans_text  label_ohe\n",
       "0  [331, 751, 16653, 13673, 799, 82, 330, 405, 22...          1\n",
       "1  [576, 395, 74, 475, 144, 40, 147, 101, 1736, 1...          0\n",
       "2  [3, 628, 5, 7833, 3115, 36, 5, 5357, 11, 76, 3...          0\n",
       "3  [480, 464, 11, 34, 1591, 2, 816, 10, 768, 2041...          1\n",
       "4  [11, 17, 33, 2542, 13680, 5185, 3, 73, 16, 83,...          1"
      ]
     },
     "execution_count": 12,
     "metadata": {},
     "output_type": "execute_result"
    }
   ],
   "source": [
    "train.head()"
   ]
  },
  {
   "cell_type": "code",
   "execution_count": 13,
   "metadata": {
    "colab": {
     "base_uri": "https://localhost:8080/"
    },
    "id": "QR1my9rwjUon",
    "outputId": "f7300a1b-9ae3-42ee-d0c8-cb73bfe15d7b"
   },
   "outputs": [
    {
     "name": "stdout",
     "output_type": "stream",
     "text": [
      "3569\n"
     ]
    }
   ],
   "source": [
    "#находим максимальную последовательность в ответах\n",
    "len_vector = 0\n",
    "for i in train['ans_text']:\n",
    "    if len_vector <= len(i): len_vector=len(i)\n",
    "\n",
    "print(len_vector)"
   ]
  },
  {
   "cell_type": "markdown",
   "metadata": {
    "id": "KWFlPZmnwfuB"
   },
   "source": [
    "### Embedding"
   ]
  },
  {
   "cell_type": "code",
   "execution_count": 14,
   "metadata": {
    "id": "L1JZajsVkftb"
   },
   "outputs": [],
   "source": [
    "x_train = pad_sequences(ans_text)  # добиваем 0 последователньости до максимального вектора в ответах"
   ]
  },
  {
   "cell_type": "code",
   "execution_count": 15,
   "metadata": {},
   "outputs": [
    {
     "data": {
      "text/plain": [
       "array([[    0,     0,     0, ...,    22,   500,  1506],\n",
       "       [    0,     0,     0, ...,  3536,  1828,   139],\n",
       "       [    0,     0,     0, ...,    25,   584,   162],\n",
       "       ...,\n",
       "       [    0,     0,     0, ...,  3418, 12896,  5039],\n",
       "       [    0,     0,     0, ...,     3,    29,   563],\n",
       "       [    0,     0,     0, ...,   635,    12,    11]])"
      ]
     },
     "execution_count": 15,
     "metadata": {},
     "output_type": "execute_result"
    }
   ],
   "source": [
    "x_train"
   ]
  },
  {
   "cell_type": "code",
   "execution_count": 16,
   "metadata": {
    "id": "Mlofqk3WlJIr"
   },
   "outputs": [],
   "source": [
    "x_tr, x_val, y_tr, y_val = train_test_split(x_train, train['label_ohe'], test_size=0.15, shuffle=True)  # делим на обучающую и валидационную выборки"
   ]
  },
  {
   "cell_type": "code",
   "execution_count": 17,
   "metadata": {
    "id": "WHycqJKfrGg5"
   },
   "outputs": [],
   "source": [
    "# колбэки\n",
    "# earlystop_callb = EarlyStopping(monitor='val_accuracy',   # колбэк на остановку\n",
    "#                                 patience=25,\n",
    "#                                 )\n",
    "\n",
    "# checkpoint_callb = ModelCheckpoint(filepath='/content/drive/MyDrive/Базы/хак2.h5',   # колбэк на сохранение лучшей модели\n",
    "#                                    monitor='val_accuracy',\n",
    "#                                    save_best_only=True)\n",
    "\n",
    "# reducelr_callb = ReduceLROnPlateau(monitor ='val_accuracy',    # колбэк на уменьшения lr\n",
    "#                                    factor=0.1,\n",
    "#                                    patience=20,\n",
    "#                                    verbose=1)"
   ]
  },
  {
   "cell_type": "code",
   "execution_count": 18,
   "metadata": {
    "colab": {
     "base_uri": "https://localhost:8080/"
    },
    "id": "XcJm-aM8TW9e",
    "outputId": "f6d08341-2de4-4dce-c6ac-a33d9679179a"
   },
   "outputs": [
    {
     "name": "stdout",
     "output_type": "stream",
     "text": [
      "Model: \"sequential\"\n",
      "_________________________________________________________________\n",
      " Layer (type)                Output Shape              Param #   \n",
      "=================================================================\n",
      " embedding (Embedding)       (None, 3569, 20)          1220000   \n",
      "                                                                 \n",
      " spatial_dropout1d (SpatialD  (None, 3569, 20)         0         \n",
      " ropout1D)                                                       \n",
      "                                                                 \n",
      " flatten (Flatten)           (None, 71380)             0         \n",
      "                                                                 \n",
      " dense (Dense)               (None, 200)               14276200  \n",
      "                                                                 \n",
      " dense_1 (Dense)             (None, 1)                 201       \n",
      "                                                                 \n",
      "=================================================================\n",
      "Total params: 15,496,401\n",
      "Trainable params: 15,496,401\n",
      "Non-trainable params: 0\n",
      "_________________________________________________________________\n"
     ]
    }
   ],
   "source": [
    "#Создаём сеть с Embedding слоем\n",
    "model03 = Sequential()\n",
    "model03.add(Embedding(max_words, 20, input_length=len_vector, mask_zero=True))\n",
    "model03.add(SpatialDropout1D(0.2))\n",
    "model03.add(Flatten())\n",
    "# model03.add(BatchNormalization())\n",
    "model03.add(Dense(200, activation=\"relu\"))\n",
    "model03.add(Dense(1, activation='sigmoid'))\n",
    "\n",
    "model03.compile(optimizer='adam',\n",
    "              loss='binary_crossentropy',\n",
    "              metrics=['accuracy'])\n",
    "\n",
    "model03.summary()"
   ]
  },
  {
   "cell_type": "code",
   "execution_count": 19,
   "metadata": {},
   "outputs": [
    {
     "data": {
      "text/plain": [
       "array([[    0,     0,     0, ...,     6,  6867, 13943],\n",
       "       [    0,     0,     0, ...,  2448, 40481, 40482],\n",
       "       [    0,     0,     0, ...,   544,    52,    88],\n",
       "       ...,\n",
       "       [    0,     0,     0, ...,  8153,     4,  8460],\n",
       "       [    0,     0,     0, ...,   138,   752,  6339],\n",
       "       [    0,     0,     0, ...,   351,    16,   348]])"
      ]
     },
     "execution_count": 19,
     "metadata": {},
     "output_type": "execute_result"
    }
   ],
   "source": [
    "x_tr"
   ]
  },
  {
   "cell_type": "code",
   "execution_count": 20,
   "metadata": {},
   "outputs": [
    {
     "data": {
      "text/plain": [
       "196     0\n",
       "1595    1\n",
       "16      0\n",
       "2832    1\n",
       "4774    0\n",
       "       ..\n",
       "3116    0\n",
       "2364    0\n",
       "2588    0\n",
       "1295    1\n",
       "2542    0\n",
       "Name: label_ohe, Length: 4096, dtype: int64"
      ]
     },
     "execution_count": 20,
     "metadata": {},
     "output_type": "execute_result"
    }
   ],
   "source": [
    "y_tr"
   ]
  },
  {
   "cell_type": "code",
   "execution_count": 21,
   "metadata": {
    "colab": {
     "base_uri": "https://localhost:8080/",
     "height": 900
    },
    "id": "LqODMNX-dQm8",
    "outputId": "ee984d11-d807-4117-8b9a-7f11a207a022"
   },
   "outputs": [
    {
     "name": "stdout",
     "output_type": "stream",
     "text": [
      "Epoch 1/25\n",
      "32/32 [==============================] - 8s 208ms/step - loss: 0.8791 - accuracy: 0.5374 - val_loss: 0.6417 - val_accuracy: 0.6985\n",
      "Epoch 2/25\n",
      "32/32 [==============================] - 7s 220ms/step - loss: 0.5566 - accuracy: 0.7712 - val_loss: 0.4971 - val_accuracy: 0.7953\n",
      "Epoch 3/25\n",
      "32/32 [==============================] - 7s 229ms/step - loss: 0.3412 - accuracy: 0.8845 - val_loss: 0.3371 - val_accuracy: 0.8645\n",
      "Epoch 4/25\n",
      "32/32 [==============================] - 7s 219ms/step - loss: 0.1652 - accuracy: 0.9578 - val_loss: 0.2489 - val_accuracy: 0.9129\n",
      "Epoch 5/25\n",
      "32/32 [==============================] - 7s 215ms/step - loss: 0.0781 - accuracy: 0.9834 - val_loss: 0.2068 - val_accuracy: 0.9364\n",
      "Epoch 6/25\n",
      "32/32 [==============================] - 7s 212ms/step - loss: 0.0409 - accuracy: 0.9941 - val_loss: 0.1915 - val_accuracy: 0.9295\n",
      "Epoch 7/25\n",
      "32/32 [==============================] - 7s 210ms/step - loss: 0.0221 - accuracy: 0.9976 - val_loss: 0.1761 - val_accuracy: 0.9405\n",
      "Epoch 8/25\n",
      "32/32 [==============================] - 7s 212ms/step - loss: 0.0130 - accuracy: 0.9998 - val_loss: 0.1792 - val_accuracy: 0.9308\n",
      "Epoch 9/25\n",
      "32/32 [==============================] - 7s 210ms/step - loss: 0.0083 - accuracy: 0.9998 - val_loss: 0.1729 - val_accuracy: 0.9378\n",
      "Epoch 10/25\n",
      "32/32 [==============================] - 7s 212ms/step - loss: 0.0060 - accuracy: 1.0000 - val_loss: 0.1681 - val_accuracy: 0.9419\n",
      "Epoch 11/25\n",
      "32/32 [==============================] - 7s 207ms/step - loss: 0.0040 - accuracy: 1.0000 - val_loss: 0.1698 - val_accuracy: 0.9461\n",
      "Epoch 12/25\n",
      "32/32 [==============================] - 7s 215ms/step - loss: 0.0029 - accuracy: 1.0000 - val_loss: 0.1714 - val_accuracy: 0.9461\n",
      "Epoch 13/25\n",
      "32/32 [==============================] - 7s 211ms/step - loss: 0.0021 - accuracy: 1.0000 - val_loss: 0.1718 - val_accuracy: 0.9447\n",
      "Epoch 14/25\n",
      "32/32 [==============================] - 7s 213ms/step - loss: 0.0016 - accuracy: 1.0000 - val_loss: 0.1891 - val_accuracy: 0.9350\n",
      "Epoch 15/25\n",
      "32/32 [==============================] - 7s 211ms/step - loss: 0.0011 - accuracy: 1.0000 - val_loss: 0.1783 - val_accuracy: 0.9461\n",
      "Epoch 16/25\n",
      "32/32 [==============================] - 7s 211ms/step - loss: 9.9489e-04 - accuracy: 1.0000 - val_loss: 0.1816 - val_accuracy: 0.9419\n",
      "Epoch 17/25\n",
      "32/32 [==============================] - 7s 225ms/step - loss: 7.3690e-04 - accuracy: 1.0000 - val_loss: 0.1826 - val_accuracy: 0.9461\n",
      "Epoch 18/25\n",
      "32/32 [==============================] - 7s 215ms/step - loss: 5.9156e-04 - accuracy: 1.0000 - val_loss: 0.1833 - val_accuracy: 0.9447\n",
      "Epoch 19/25\n",
      "32/32 [==============================] - 7s 212ms/step - loss: 4.8017e-04 - accuracy: 1.0000 - val_loss: 0.1992 - val_accuracy: 0.9378\n",
      "Epoch 20/25\n",
      "32/32 [==============================] - 7s 213ms/step - loss: 4.0712e-04 - accuracy: 1.0000 - val_loss: 0.1921 - val_accuracy: 0.9433\n",
      "Epoch 21/25\n",
      "32/32 [==============================] - 7s 216ms/step - loss: 3.8660e-04 - accuracy: 1.0000 - val_loss: 0.1872 - val_accuracy: 0.9474\n",
      "Epoch 22/25\n",
      "32/32 [==============================] - 7s 213ms/step - loss: 3.2175e-04 - accuracy: 1.0000 - val_loss: 0.1925 - val_accuracy: 0.9447\n",
      "Epoch 23/25\n",
      "32/32 [==============================] - 7s 209ms/step - loss: 2.8926e-04 - accuracy: 1.0000 - val_loss: 0.2023 - val_accuracy: 0.9405\n",
      "Epoch 24/25\n",
      "32/32 [==============================] - 7s 207ms/step - loss: 2.1745e-04 - accuracy: 1.0000 - val_loss: 0.1996 - val_accuracy: 0.9447\n",
      "Epoch 25/25\n",
      "32/32 [==============================] - 7s 208ms/step - loss: 2.2667e-04 - accuracy: 1.0000 - val_loss: 0.2000 - val_accuracy: 0.9447\n"
     ]
    }
   ],
   "source": [
    "#Обучаем сеть на xTrain\n",
    "history = model03.fit(x_tr,\n",
    "                      y_tr,\n",
    "                      epochs=25,\n",
    "                      batch_size=128,\n",
    "                      validation_data=(x_val, y_val)\n",
    "                      )"
   ]
  },
  {
   "cell_type": "code",
   "execution_count": 22,
   "metadata": {
    "id": "8mrI1Tqw3Rfa"
   },
   "outputs": [
    {
     "data": {
      "image/png": "[encoded data removed]",
      "text/plain": [
       "<Figure size 800x500 with 1 Axes>"
      ]
     },
     "metadata": {},
     "output_type": "display_data"
    }
   ],
   "source": [
    "plt.figure(figsize=(8,5))\n",
    "plt.plot(history.history['loss'],\n",
    "         label='ошибка на обучающем наборе')\n",
    "plt.plot(history.history['val_loss'],\n",
    "         label='ощибка на проверочном наборе')\n",
    "plt.xlabel('Эпоха обучения')\n",
    "plt.ylabel('ошибка')\n",
    "plt.legend()\n",
    "plt.show()"
   ]
  },
  {
   "cell_type": "code",
   "execution_count": 23,
   "metadata": {
    "id": "NGyTcelBx03i"
   },
   "outputs": [
    {
     "data": {
      "image/png": "[encoded data removed]",
      "text/plain": [
       "<Figure size 800x500 with 1 Axes>"
      ]
     },
     "metadata": {},
     "output_type": "display_data"
    }
   ],
   "source": [
    "plt.figure(figsize=(8,5))\n",
    "plt.plot(history.history['accuracy'],\n",
    "         label='Доля верных ответов на обучающем наборе')\n",
    "plt.plot(history.history['val_accuracy'],\n",
    "         label='Доля верных ответов на проверочном наборе')\n",
    "plt.xlabel('Эпоха обучения')\n",
    "plt.ylabel('Доля верных ответов')\n",
    "plt.legend()\n",
    "plt.show()"
   ]
  },
  {
   "cell_type": "code",
   "execution_count": 24,
   "metadata": {
    "id": "4q8kVsm2tMST"
   },
   "outputs": [
    {
     "name": "stdout",
     "output_type": "stream",
     "text": [
      "23/23 [==============================] - 0s 12ms/step\n"
     ]
    }
   ],
   "source": [
    "pre = model03.predict(x_val)  # предиктим"
   ]
  },
  {
   "cell_type": "code",
   "execution_count": 25,
   "metadata": {
    "id": "LRhd3sUtuUsk"
   },
   "outputs": [],
   "source": [
    "li_pre = [int(round(i[0], 0)) for i in pre]  # переводим вероятность формата float в тип int и добавляем в список"
   ]
  },
  {
   "cell_type": "code",
   "execution_count": 26,
   "metadata": {
    "id": "51S1rXrFscSm"
   },
   "outputs": [
    {
     "data": {
      "text/plain": [
       "0.9388379204892967"
      ]
     },
     "execution_count": 26,
     "metadata": {},
     "output_type": "execute_result"
    }
   ],
   "source": [
    "compute_metric(li_pre, y_val)  # выводим метрику F1"
   ]
  },
  {
   "cell_type": "code",
   "execution_count": 27,
   "metadata": {
    "id": "p2D7MKctzb_x"
   },
   "outputs": [],
   "source": [
    "model03 = model03.save('/content/drive/MyDrive/Базы/хак2_emb.h5')  # загр модель"
   ]
  },
  {
   "cell_type": "code",
   "execution_count": 28,
   "metadata": {
    "id": "pn8z3zFhqosU"
   },
   "outputs": [],
   "source": [
    "model03 = load_model('/content/drive/MyDrive/Базы/хак2_emb.h5')  # загр модель"
   ]
  },
  {
   "cell_type": "markdown",
   "metadata": {
    "id": "Vt3oWT7-wkSp",
    "tags": []
   },
   "source": [
    "### BoW"
   ]
  },
  {
   "cell_type": "markdown",
   "metadata": {},
   "source": [
    "а теперь попробуем без учёта порядка слов"
   ]
  },
  {
   "cell_type": "code",
   "execution_count": 29,
   "metadata": {
    "id": "n3KVfpuAwkSr"
   },
   "outputs": [],
   "source": [
    "x_train = tokenizer.sequences_to_matrix(ans_text)  # преобразуем в BoW"
   ]
  },
  {
   "cell_type": "code",
   "execution_count": 30,
   "metadata": {
    "id": "NZqOASc9wkSt"
   },
   "outputs": [],
   "source": [
    "x_tr, x_val, y_tr, y_val = train_test_split(x_train, train['label_ohe'], test_size=0.5, shuffle=True)  # делим на обучающую и валидационную выборки"
   ]
  },
  {
   "cell_type": "code",
   "execution_count": 31,
   "metadata": {
    "id": "Zf8TtNj2wkSu"
   },
   "outputs": [],
   "source": [
    "# колбэки\n",
    "# earlystop_callb = EarlyStopping(monitor='val_accuracy',   # колбэк на остановку\n",
    "#                                 patience=25,\n",
    "#                                 )\n",
    "\n",
    "checkpoint_callb = ModelCheckpoint(filepath='/content/drive/MyDrive/Базы/хак2_bow.h5',   # колбэк на сохранение лучшей модели\n",
    "                                   monitor='val_accuracy',\n",
    "                                   save_best_only=True)\n",
    "\n",
    "# reducelr_callb = ReduceLROnPlateau(monitor ='val_accuracy',    # колбэк на уменьшения lr\n",
    "#                                    factor=0.1,\n",
    "#                                    patience=20,\n",
    "#                                    verbose=1)"
   ]
  },
  {
   "cell_type": "code",
   "execution_count": 32,
   "metadata": {
    "colab": {
     "base_uri": "https://localhost:8080/"
    },
    "id": "LsSNSIEowkSv",
    "outputId": "b86efe47-6b28-4ac3-b6f1-d9356b0f8509"
   },
   "outputs": [
    {
     "name": "stdout",
     "output_type": "stream",
     "text": [
      "Model: \"sequential_1\"\n",
      "_________________________________________________________________\n",
      " Layer (type)                Output Shape              Param #   \n",
      "=================================================================\n",
      " dense_2 (Dense)             (None, 128)               7808128   \n",
      "                                                                 \n",
      " dense_3 (Dense)             (None, 1)                 129       \n",
      "                                                                 \n",
      "=================================================================\n",
      "Total params: 7,808,257\n",
      "Trainable params: 7,808,257\n",
      "Non-trainable params: 0\n",
      "_________________________________________________________________\n"
     ]
    }
   ],
   "source": [
    "#Создаём сеть с Embedding слоем\n",
    "model03 = Sequential()\n",
    "\n",
    "model03.add(Dense(128, input_shape=(max_words,), activation=\"relu\"))\n",
    "# model03.add(Dropout(0.25))\n",
    "# model03.add(BatchNormalization())\n",
    "model03.add(Dense(1, activation='sigmoid'))\n",
    "\n",
    "model03.compile(optimizer='adam',\n",
    "              loss='binary_crossentropy',\n",
    "              metrics=['accuracy'])\n",
    "\n",
    "model03.summary()"
   ]
  },
  {
   "cell_type": "code",
   "execution_count": 33,
   "metadata": {
    "id": "CvbGnsTv6nRh"
   },
   "outputs": [],
   "source": [
    "# model03.compile(optimizer=Adam(0.0001),\n",
    "#               loss='binary_crossentropy',\n",
    "#               metrics=['accuracy'])"
   ]
  },
  {
   "cell_type": "code",
   "execution_count": 34,
   "metadata": {
    "id": "PPky6qEVwkSz"
   },
   "outputs": [
    {
     "name": "stdout",
     "output_type": "stream",
     "text": [
      "Epoch 1/15\n",
      "19/19 [==============================] - 4s 146ms/step - loss: 0.4883 - accuracy: 0.7970 - val_loss: 0.3041 - val_accuracy: 0.9220\n",
      "Epoch 2/15\n",
      "19/19 [==============================] - 2s 123ms/step - loss: 0.1301 - accuracy: 0.9863 - val_loss: 0.2046 - val_accuracy: 0.9336\n",
      "Epoch 3/15\n",
      "19/19 [==============================] - 2s 123ms/step - loss: 0.0515 - accuracy: 0.9975 - val_loss: 0.1791 - val_accuracy: 0.9365\n",
      "Epoch 4/15\n",
      "19/19 [==============================] - 2s 121ms/step - loss: 0.0262 - accuracy: 0.9992 - val_loss: 0.1684 - val_accuracy: 0.9390\n",
      "Epoch 5/15\n",
      "19/19 [==============================] - 2s 121ms/step - loss: 0.0161 - accuracy: 1.0000 - val_loss: 0.1640 - val_accuracy: 0.9402\n",
      "Epoch 6/15\n",
      "19/19 [==============================] - 2s 113ms/step - loss: 0.0109 - accuracy: 1.0000 - val_loss: 0.1618 - val_accuracy: 0.9398\n",
      "Epoch 7/15\n",
      "19/19 [==============================] - 2s 112ms/step - loss: 0.0078 - accuracy: 1.0000 - val_loss: 0.1614 - val_accuracy: 0.9398\n",
      "Epoch 8/15\n",
      "19/19 [==============================] - 2s 111ms/step - loss: 0.0059 - accuracy: 1.0000 - val_loss: 0.1605 - val_accuracy: 0.9402\n",
      "Epoch 9/15\n",
      "19/19 [==============================] - 2s 121ms/step - loss: 0.0047 - accuracy: 1.0000 - val_loss: 0.1601 - val_accuracy: 0.9415\n",
      "Epoch 10/15\n",
      "19/19 [==============================] - 2s 126ms/step - loss: 0.0038 - accuracy: 1.0000 - val_loss: 0.1604 - val_accuracy: 0.9419\n",
      "Epoch 11/15\n",
      "19/19 [==============================] - 2s 115ms/step - loss: 0.0031 - accuracy: 1.0000 - val_loss: 0.1601 - val_accuracy: 0.9407\n",
      "Epoch 12/15\n",
      "19/19 [==============================] - 2s 114ms/step - loss: 0.0026 - accuracy: 1.0000 - val_loss: 0.1616 - val_accuracy: 0.9419\n",
      "Epoch 13/15\n",
      "19/19 [==============================] - 2s 116ms/step - loss: 0.0022 - accuracy: 1.0000 - val_loss: 0.1616 - val_accuracy: 0.9411\n",
      "Epoch 14/15\n",
      "19/19 [==============================] - 2s 115ms/step - loss: 0.0019 - accuracy: 1.0000 - val_loss: 0.1621 - val_accuracy: 0.9419\n",
      "Epoch 15/15\n",
      "19/19 [==============================] - 2s 112ms/step - loss: 0.0016 - accuracy: 1.0000 - val_loss: 0.1629 - val_accuracy: 0.9407\n"
     ]
    }
   ],
   "source": [
    "#Обучаем сеть на xTrain\n",
    "history = model03.fit(x_tr,\n",
    "                      y_tr,\n",
    "                      epochs=15,\n",
    "                      batch_size=128,\n",
    "                      validation_data=(x_val, y_val),\n",
    "                      callbacks=[checkpoint_callb]\n",
    "                      )"
   ]
  },
  {
   "cell_type": "code",
   "execution_count": 35,
   "metadata": {
    "colab": {
     "base_uri": "https://localhost:8080/"
    },
    "id": "CjN3eAH0876u",
    "outputId": "458d0155-24b8-4723-ca99-ab4b6039132f"
   },
   "outputs": [
    {
     "name": "stdout",
     "output_type": "stream",
     "text": [
      "76/76 [==============================] - 1s 8ms/step - loss: 0.1629 - accuracy: 0.9407\n"
     ]
    },
    {
     "data": {
      "text/plain": [
       "[0.16288436949253082, 0.9406638741493225]"
      ]
     },
     "execution_count": 35,
     "metadata": {},
     "output_type": "execute_result"
    }
   ],
   "source": [
    "model03.evaluate(x_val, y_val)"
   ]
  },
  {
   "cell_type": "code",
   "execution_count": 36,
   "metadata": {
    "id": "DYdy9XCR2EhO"
   },
   "outputs": [
    {
     "data": {
      "image/png": "[encoded data removed]",
      "text/plain": [
       "<Figure size 600x400 with 1 Axes>"
      ]
     },
     "metadata": {},
     "output_type": "display_data"
    }
   ],
   "source": [
    "plt.figure(figsize=(6,4))\n",
    "plt.plot(history.history['loss'],\n",
    "         label='ошибка на обучающем наборе')\n",
    "plt.plot(history.history['val_loss'],\n",
    "         label='ощибка на проверочном наборе')\n",
    "plt.xlabel('Эпоха обучения')\n",
    "plt.ylabel('ошибка')\n",
    "plt.legend()\n",
    "plt.show()"
   ]
  },
  {
   "cell_type": "code",
   "execution_count": 37,
   "metadata": {
    "id": "poWNHtIw2EhZ"
   },
   "outputs": [
    {
     "data": {
      "image/png": "[encoded data removed]",
      "text/plain": [
       "<Figure size 600x400 with 1 Axes>"
      ]
     },
     "metadata": {},
     "output_type": "display_data"
    }
   ],
   "source": [
    "plt.figure(figsize=(6,4))\n",
    "plt.plot(history.history['accuracy'],\n",
    "         label='Доля верных ответов на обучающем наборе')\n",
    "plt.plot(history.history['val_accuracy'],\n",
    "         label='Доля верных ответов на проверочном наборе')\n",
    "plt.xlabel('Эпоха обучения')\n",
    "plt.ylabel('Доля верных ответов')\n",
    "plt.legend()\n",
    "plt.show()"
   ]
  },
  {
   "cell_type": "code",
   "execution_count": 38,
   "metadata": {
    "id": "dsAyEwv5wkS0"
   },
   "outputs": [
    {
     "name": "stdout",
     "output_type": "stream",
     "text": [
      "151/151 [==============================] - 1s 8ms/step\n"
     ]
    }
   ],
   "source": [
    "pre = model03.predict(x_train)  # предиктим"
   ]
  },
  {
   "cell_type": "code",
   "execution_count": 39,
   "metadata": {
    "id": "sifYRboowkS0"
   },
   "outputs": [],
   "source": [
    "li_pre = [int(round(i[0], 0)) for i in pre]  # переводим вероятность формата float в тип int и добавляем в список"
   ]
  },
  {
   "cell_type": "code",
   "execution_count": 40,
   "metadata": {
    "id": "yEa0gHg3wkS1"
   },
   "outputs": [
    {
     "data": {
      "text/plain": [
       "0.9698375870069607"
      ]
     },
     "execution_count": 40,
     "metadata": {},
     "output_type": "execute_result"
    }
   ],
   "source": [
    "compute_metric(li_pre, train['label_ohe'])  # выводим метрику F1"
   ]
  },
  {
   "cell_type": "markdown",
   "metadata": {
    "id": "XippneVENVt-"
   },
   "source": [
    "# сабмит"
   ]
  },
  {
   "cell_type": "code",
   "execution_count": 41,
   "metadata": {
    "colab": {
     "base_uri": "https://localhost:8080/"
    },
    "id": "tKF6iq-QY8xq",
    "outputId": "fa43a1aa-1e82-460f-f65c-85831823e7c9"
   },
   "outputs": [
    {
     "name": "stdout",
     "output_type": "stream",
     "text": [
      "Overwriting m.py\n"
     ]
    }
   ],
   "source": [
    "%%writefile m.py\n",
    "import pathlib\n",
    "import pandas as pd\n",
    "import numpy as np\n",
    "import keras as K\n",
    "\n",
    "MODEL_FILE = pathlib.Path(__file__).parent.joinpath(\"хак2.h5\")\n",
    "token_file = pathlib.Path(__file__).parent.joinpath(\"tokenizer.json\")\n",
    "\n",
    "# функция предиктит ответы\n",
    "def train_and_make_predictions(X_test):\n",
    "    model = K.models.load_model(MODEL_FILE)\n",
    "    y_pred = model.predict(X_test)\n",
    "    y_pred = [int(round(i[0], 0)) for i in y_pred]\n",
    "    return y_pred\n",
    "\n",
    "#  преобработка данных и предсказание\n",
    "if __name__ == \"__main__\":\n",
    "    # чтение файла тест\n",
    "    df_test = pd.read_csv(\"data/test.csv\")\n",
    "\n",
    "    # преобразование колонки ответов в массив\n",
    "    ans_test = df_test[\"ans_text\"].values\n",
    "\n",
    "    with open(token_file, 'r') as f:\n",
    "      tokenizer_config = f.read()\n",
    "      tokenizer = K.preprocessing.text.tokenizer_from_json(tokenizer_config)\n",
    "\n",
    "    ans_test = tokenizer.texts_to_sequences(ans_test)\n",
    "\n",
    "    x_test = tokenizer.sequences_to_matrix(ans_test)\n",
    "\n",
    "    # предсказание модели\n",
    "    y_pred = train_and_make_predictions(x_test)\n",
    "\n",
    "    df_test[\"label\"] = y_pred\n",
    "    df_test[\"label\"] = df_test[\"label\"].map({1: 'hu_answer', 0: 'ai_answer'})\n",
    "    df_test[[\"line_id\", \"label\"]].to_csv(\"data/submission.csv\", sep=\",\", index=False)"
   ]
  }
 ],
 "metadata": {
  "accelerator": "GPU",
  "colab": {
   "collapsed_sections": [
    "KWFlPZmnwfuB"
   ],
   "gpuType": "T4",
   "provenance": []
  },
  "kernelspec": {
   "display_name": "Python 3 (ipykernel)",
   "language": "python",
   "name": "python3"
  },
  "language_info": {
   "codemirror_mode": {
    "name": "ipython",
    "version": 3
   },
   "file_extension": ".py",
   "mimetype": "text/x-python",
   "name": "python",
   "nbconvert_exporter": "python",
   "pygments_lexer": "ipython3",
   "version": "3.9.16"
  }
 },
 "nbformat": 4,
 "nbformat_minor": 4
}
